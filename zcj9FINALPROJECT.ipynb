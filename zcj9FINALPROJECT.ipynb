{
 "cells": [
  {
   "cell_type": "markdown",
   "id": "b8d0fdb7-cc2b-4476-a209-0fe6b502831d",
   "metadata": {},
   "source": [
    "# Pollution and Accidental Overdoses\r",
    "#### Final Project for Big Ideas in CMPINF 0010]\r\n",
    "**Author:*Zachariah Jonassaint  \r\n",
    "**Date:** April 2025## Motivation\n",
    "The effects of pollution on human health are not limited to air or water quality; they also manifest through toxic environments shaped by social, economic, and chemical exposures. One underexplored domain of pollution is the contamination of drug supplies with potent synthetic substances like fentanyl.\n",
    "\n",
    "In Allegheny County, overdose deaths have surged over the past decade. This trend may reflect an increasingly toxic drug supply, worsened by unregulated chemical manufacturing and distribution—what we can think of as a form of chemical pollution.\n",
    "\n",
    "By analyzing overdose death data over time, this project seeks to explore:\n",
    "\n",
    "a). How overdose death trends have changed annually\n",
    "\n",
    "b). Whether rising death rates may correlate with broader environmental or public health conditions\n",
    "\n",
    "c). The relationship between social pollution (e.g., contaminated drug supply) and preventable mortalityswer?\r\n"
   ]
  },
  {
   "cell_type": "markdown",
   "id": "d046616b-3e5c-4c42-ab2b-a48ebb9eb779",
   "metadata": {},
   "source": [
    "### Dataset Source and Context\n",
    "## This analysis draws from the Allegheny County Overdose Deaths dataset, provided by the Allegheny County Medical Examiner’s Office and published on the Western Pennsylvania Regional Data Center (WPRDC).\n",
    "\n",
    "Publisher: Allegheny County Medical Examiner’s Office\n",
    "\n",
    "License: Public Domain (PDDL)\n",
    "\n",
    "URL: https://data.wprdc.org/dataset/allegheny-county-overdose-deaths\n",
    "\n",
    "Update Frequency: Quarterly\n",
    "\n",
    "The dataset includes individual-level data on:\n",
    "\n",
    "a). Age, sex, and race of deceased\n",
    "\n",
    "b). Date and location of death\n",
    "\n",
    "c). Substances involved in each overdose\n",
    "\n",
    "d). Manner of death\n",
    "\n",
    "# This data allow for analysis of overdose deaths as a potential public health outcome of environmental and chemical pollution."
   ]
  },
  {
   "cell_type": "code",
   "execution_count": 3,
   "id": "f7fbcd33-4c78-44e7-b33a-dc2eeaf3ff2b",
   "metadata": {},
   "outputs": [],
   "source": [
    "import warnings\n",
    "warnings.simplefilter(action='ignore', category=FutureWarning)"
   ]
  },
  {
   "cell_type": "code",
   "execution_count": 4,
   "id": "e14102fa-c2b0-41de-819d-903ab77e71a8",
   "metadata": {},
   "outputs": [
    {
     "name": "stdout",
     "output_type": "stream",
     "text": [
      "Original column names:\n",
      " Index(['_id', 'death_date_and_time', 'manner_of_death', 'age', 'sex', 'race',\n",
      "       'case_dispo', 'combined_od1', 'combined_od2', 'combined_od3',\n",
      "       'combined_od4', 'combined_od5', 'combined_od6', 'combined_od7',\n",
      "       'combined_od8', 'combined_od9', 'combined_od10', 'incident_zip',\n",
      "       'decedent_zip', 'case_year'],\n",
      "      dtype='object')\n",
      "\n",
      "Cleaned column names:\n",
      " Index(['_id', 'death_date_and_time', 'manner_of_death', 'age', 'sex', 'race',\n",
      "       'case_dispo', 'combined_od1', 'combined_od2', 'combined_od3',\n",
      "       'combined_od4', 'combined_od5', 'combined_od6', 'combined_od7',\n",
      "       'combined_od8', 'combined_od9', 'combined_od10', 'incident_zip',\n",
      "       'decedent_zip', 'case_year'],\n",
      "      dtype='object')\n",
      "\n",
      "Shape: (7315, 20)\n",
      "\n",
      "Info:\n",
      "<class 'pandas.core.frame.DataFrame'>\n",
      "RangeIndex: 7315 entries, 0 to 7314\n",
      "Data columns (total 20 columns):\n",
      " #   Column               Non-Null Count  Dtype  \n",
      "---  ------               --------------  -----  \n",
      " 0   _id                  7315 non-null   int64  \n",
      " 1   death_date_and_time  7315 non-null   object \n",
      " 2   manner_of_death      7315 non-null   object \n",
      " 3   age                  7314 non-null   float64\n",
      " 4   sex                  7315 non-null   object \n",
      " 5   race                 7313 non-null   object \n",
      " 6   case_dispo           7315 non-null   object \n",
      " 7   combined_od1         7315 non-null   object \n",
      " 8   combined_od2         5930 non-null   object \n",
      " 9   combined_od3         4011 non-null   object \n",
      " 10  combined_od4         2164 non-null   object \n",
      " 11  combined_od5         978 non-null    object \n",
      " 12  combined_od6         376 non-null    object \n",
      " 13  combined_od7         158 non-null    object \n",
      " 14  combined_od8         46 non-null     object \n",
      " 15  combined_od9         14 non-null     object \n",
      " 16  combined_od10        1 non-null      object \n",
      " 17  incident_zip         7106 non-null   object \n",
      " 18  decedent_zip         0 non-null      float64\n",
      " 19  case_year            7315 non-null   int64  \n",
      "dtypes: float64(2), int64(2), object(16)\n",
      "memory usage: 1.1+ MB\n",
      "\n",
      "Missing values:\n",
      " _id                       0\n",
      "death_date_and_time       0\n",
      "manner_of_death           0\n",
      "age                       1\n",
      "sex                       0\n",
      "race                      2\n",
      "case_dispo                0\n",
      "combined_od1              0\n",
      "combined_od2           1385\n",
      "combined_od3           3304\n",
      "combined_od4           5151\n",
      "combined_od5           6337\n",
      "combined_od6           6939\n",
      "combined_od7           7157\n",
      "combined_od8           7269\n",
      "combined_od9           7301\n",
      "combined_od10          7314\n",
      "incident_zip            209\n",
      "decedent_zip           7315\n",
      "case_year                 0\n",
      "dtype: int64\n"
     ]
    }
   ],
   "source": [
    "import pandas as pd\n",
    "import matplotlib.pyplot as plt\n",
    "import seaborn as sns\n",
    "\n",
    "# Load dataset from WPRDC\n",
    "url = 'https://data.wprdc.org/datastore/dump/1c59b26a-1684-4bfb-92f7-205b947530cf'\n",
    "df = pd.read_csv(url)\n",
    "\n",
    "# Check actual column names\n",
    "print(\"Original column names:\\n\", df.columns)\n",
    "\n",
    "# Clean column names: lowercase and underscores\n",
    "df.columns = df.columns.str.strip().str.lower().str.replace(' ', '_')\n",
    "\n",
    "# Print again to confirm cleaned names\n",
    "print(\"\\nCleaned column names:\\n\", df.columns)\n",
    "\n",
    "# Check if a date-related column exists\n",
    "# Based on the dataset structure, it’s likely to be 'date_of_death'\n",
    "if 'date_of_death' in df.columns:\n",
    "    # Convert to datetime\n",
    "    df['date_of_death'] = pd.to_datetime(df['date_of_death'], errors='coerce')\n",
    "\n",
    "    # Drop rows with missing or invalid dates\n",
    "    df = df.dropna(subset=['date_of_death'])\n",
    "\n",
    "# Drop duplicate rows\n",
    "df.drop_duplicates(inplace=True)\n",
    "\n",
    "# Display structure of the cleaned dataset\n",
    "print(\"\\nShape:\", df.shape)\n",
    "print(\"\\nInfo:\")\n",
    "df.info()\n",
    "print(\"\\nMissing values:\\n\", df.isnull().sum())\n"
   ]
  },
  {
   "cell_type": "markdown",
   "id": "37cb4b24-5de8-45a3-ac1a-b868e76f420b",
   "metadata": {},
   "source": [
    "### Overdose Deaths Per Year\n",
    "The bar plot below displays the number of overdose deaths per year in Allegheny County. The trendline reveals a marked increase in deaths from the mid-2010s onward, which may align with the emergence of fentanyl-laced drug supplies and economic instability."
   ]
  },
  {
   "cell_type": "code",
   "execution_count": 5,
   "id": "9c6b428c-60c4-461a-aef6-f8779a723557",
   "metadata": {},
   "outputs": [
    {
     "data": {
      "image/png": "[encoded data removed]",
      "text/plain": [
       "<Figure size 1000x500 with 1 Axes>"
      ]
     },
     "metadata": {},
     "output_type": "display_data"
    }
   ],
   "source": [
    "import matplotlib.pyplot as plt\n",
    "import seaborn as sns\n",
    "import pandas as pd\n",
    "\n",
    "# Set style\n",
    "sns.set(style='whitegrid')\n",
    "\n",
    "# --- Clean up date and create new features ---\n",
    "df['death_date_and_time'] = pd.to_datetime(df['death_date_and_time'], errors='coerce')\n",
    "df['year'] = df['death_date_and_time'].dt.year\n",
    "\n",
    "# --- Add a count of how many substances were involved per case ---\n",
    "drug_cols = [col for col in df.columns if col.startswith('combined_od')]\n",
    "df['num_drugs'] = df[drug_cols].notnull().sum(axis=1)\n",
    "\n",
    "# --- Plot 2: Overdose deaths per year ---\n",
    "plt.figure(figsize=(10, 5))\n",
    "df['year'].value_counts().sort_index().plot(kind='bar')\n",
    "plt.title(\"Number of Overdose Deaths per Year\")\n",
    "plt.xlabel(\"Year\")\n",
    "plt.ylabel(\"Deaths\")\n",
    "plt.show()"
   ]
  },
  {
   "cell_type": "markdown",
   "id": "3eac1ccc-4a77-426f-b1f1-9378698ade38",
   "metadata": {},
   "source": [
    "## The rise in overdose deaths may be linked to the growing contamination of street drugs with harmful chemicals. This could be made worse by weak regulations, economic hardship, and problems in the global drug supply. Looking at overdose deaths this way shows that the opioid crisis is not just a health issue, but also a problem of environmental and social injustice."
   ]
  },
  {
   "cell_type": "markdown",
   "id": "caa369ee-4f32-4f0c-adeb-0d744de67e26",
   "metadata": {},
   "source": [
    "### Conclusion\n",
    "## This analysis shows that overdose deaths in Allegheny County have gone up a lot over the past 10 years. Instead of seeing these deaths as random or separate events, this project looks at them as a result of chemical pollution—specifically, the growing presence of dangerous synthetic drugs like fentanyl in the unregulated drug supply.\n",
    "\n",
    "# The time-series trendline reflects:\n",
    "\n",
    "a). A steep rise in deaths between 2015–2020\n",
    "\n",
    "b). Environmental injustice concentrated in communities vulnerable to drug exposure\n",
    "\n",
    "# Limitations:\n",
    "\n",
    "a). It cannot account for non-fatal overdoses or drug supply source information.\n",
    "\n",
    "Future Work:\n",
    "\n",
    "a). Map geographic clusters of deaths to locate pollution or deprivation hotspots"
   ]
  },
  {
   "cell_type": "code",
   "execution_count": null,
   "id": "8417c620-1447-4e41-85a5-bf8b046e69b2",
   "metadata": {},
   "outputs": [],
   "source": []
  }
 ],
 "metadata": {
  "kernelspec": {
   "display_name": "Python 3 (ipykernel)",
   "language": "python",
   "name": "python3"
  },
  "language_info": {
   "codemirror_mode": {
    "name": "ipython",
    "version": 3
   },
   "file_extension": ".py",
   "mimetype": "text/x-python",
   "name": "python",
   "nbconvert_exporter": "python",
   "pygments_lexer": "ipython3",
   "version": "3.11.5"
  }
 },
 "nbformat": 4,
 "nbformat_minor": 5
}
